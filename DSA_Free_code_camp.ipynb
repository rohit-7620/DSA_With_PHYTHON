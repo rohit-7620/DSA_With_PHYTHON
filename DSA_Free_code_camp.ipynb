{
  "nbformat": 4,
  "nbformat_minor": 0,
  "metadata": {
    "colab": {
      "provenance": [],
      "authorship_tag": "ABX9TyN3jtrLDjPOW8Xk5sa+TEY4",
      "include_colab_link": true
    },
    "kernelspec": {
      "name": "python3",
      "display_name": "Python 3"
    },
    "language_info": {
      "name": "python"
    }
  },
  "cells": [
    {
      "cell_type": "markdown",
      "metadata": {
        "id": "view-in-github",
        "colab_type": "text"
      },
      "source": [
        "<a href=\"https://colab.research.google.com/github/rohit-7620/DSA_With_PHYTHON/blob/main/DSA_Free_code_camp.ipynb\" target=\"_parent\"><img src=\"https://colab.research.google.com/assets/colab-badge.svg\" alt=\"Open In Colab\"/></a>"
      ]
    },
    {
      "cell_type": "markdown",
      "source": [
        "*Linear Search Algorithm*"
      ],
      "metadata": {
        "id": "M7LRj7rMK7LS"
      }
    },
    {
      "cell_type": "code",
      "source": [
        "''' Problem\n",
        "We need to write a program to find the position of a given number in a list of numbers arranged in decreasing order. We also need to minimize the number of times we access elements from the list.\n",
        "\n",
        "Input\n",
        "cards: A list of numbers sorted in decreasing order. E.g. [13, 11, 10, 7, 4, 3, 1, 0]\n",
        "query: A number, whose position in the array is to be determined. E.g. 7\n",
        "Output\n",
        "position: The position of query in the list cards. E.g. 3 in the above case (counting from 0)'''"
      ],
      "metadata": {
        "colab": {
          "base_uri": "https://localhost:8080/",
          "height": 70
        },
        "id": "9lPBCvHD9qWp",
        "outputId": "1e8c2b55-226b-4e92-f139-a0f78b8d9e43"
      },
      "execution_count": null,
      "outputs": [
        {
          "output_type": "execute_result",
          "data": {
            "text/plain": [
              "' Problem\\nWe need to write a program to find the position of a given number in a list of numbers arranged in decreasing order. We also need to minimize the number of times we access elements from the list.\\n\\nInput\\ncards: A list of numbers sorted in decreasing order. E.g. [13, 11, 10, 7, 4, 3, 1, 0]\\nquery: A number, whose position in the array is to be determined. E.g. 7\\nOutput\\nposition: The position of query in the list cards. E.g. 3 in the above case (counting from 0)'"
            ],
            "application/vnd.google.colaboratory.intrinsic+json": {
              "type": "string"
            }
          },
          "metadata": {},
          "execution_count": 2
        }
      ]
    },
    {
      "cell_type": "code",
      "source": [
        "def locate_card(cards , query) :\n",
        "  position = 0\n",
        "  while True :\n",
        "    if cards[position] == query :\n",
        "      return position\n",
        "    position +=1\n",
        "    if position == len(cards) :\n",
        "      return -1\n",
        "locate_card([13, 11, 10, 7, 4, 3, 1, 0] , 7)"
      ],
      "metadata": {
        "colab": {
          "base_uri": "https://localhost:8080/"
        },
        "id": "puSLR6_qGNU0",
        "outputId": "9a2072e3-090b-473a-85da-cc082558b6eb"
      },
      "execution_count": null,
      "outputs": [
        {
          "output_type": "execute_result",
          "data": {
            "text/plain": [
              "3"
            ]
          },
          "metadata": {},
          "execution_count": 8
        }
      ]
    },
    {
      "cell_type": "markdown",
      "source": [],
      "metadata": {
        "id": "guzTLbG_S62v"
      }
    },
    {
      "cell_type": "markdown",
      "source": [
        "*Reversed the linked list\n",
        "### `*`"
      ],
      "metadata": {
        "id": "6KQkmLjPS64p"
      }
    },
    {
      "cell_type": "code",
      "source": [
        "# Node class\n",
        "class Node:\n",
        "    def __init__(self, data):\n",
        "        self.data = data\n",
        "        self.next = None\n",
        "\n",
        "# Linked List class\n",
        "class LinkedList:\n",
        "    def __init__(self):\n",
        "        self.head = None\n",
        "\n",
        "    # Add node at the end\n",
        "    def append(self, data):\n",
        "        new_node = Node(data)\n",
        "        if not self.head:\n",
        "            self.head = new_node\n",
        "            return\n",
        "        temp = self.head\n",
        "        while temp.next:\n",
        "            temp = temp.next\n",
        "        temp.next = new_node\n",
        "\n",
        "    # Print linked list\n",
        "    def display(self):\n",
        "        temp = self.head\n",
        "        while temp:\n",
        "            print(temp.data, end=\" -> \")\n",
        "            temp = temp.next\n",
        "        print(\"None\")\n",
        "\n",
        "    # Reverse the linked list\n",
        "    def reverse(self):\n",
        "        prev = None\n",
        "        current = self.head\n",
        "        while current:\n",
        "            next_node = current.next  # store next node\n",
        "            current.next = prev       # reverse the link\n",
        "            prev = current            # move prev forward\n",
        "            current = next_node       # move current forward\n",
        "        self.head = prev\n",
        "\n",
        "# Example usage\n",
        "ll = LinkedList()\n",
        "for val in [1, 2, 3, 4, 5]:\n",
        "    ll.append(val)\n",
        "\n",
        "print(\"Original Linked List:\")\n",
        "ll.display()\n",
        "\n",
        "ll.reverse()\n",
        "\n",
        "print(\"Reversed Linked List:\")\n",
        "ll.display()\n"
      ],
      "metadata": {
        "colab": {
          "base_uri": "https://localhost:8080/"
        },
        "id": "GftqBdg5GNSh",
        "outputId": "65d9807e-18e5-4270-d743-fd38c404acca"
      },
      "execution_count": null,
      "outputs": [
        {
          "output_type": "stream",
          "name": "stdout",
          "text": [
            "Original Linked List:\n",
            "1 -> 2 -> 3 -> 4 -> 5 -> None\n",
            "Reversed Linked List:\n",
            "5 -> 4 -> 3 -> 2 -> 1 -> None\n"
          ]
        }
      ]
    },
    {
      "cell_type": "code",
      "source": [
        "class Node:\n",
        "    def __init__(self, data):\n",
        "        self.data = data\n",
        "        self.next = None\n",
        "\n",
        "def reverse(head):\n",
        "    cur = head\n",
        "    prev = None\n",
        "\n",
        "    while cur is not None:\n",
        "        temp = cur.next\n",
        "        cur.next = prev\n",
        "        prev = cur\n",
        "        cur = temp\n",
        "\n",
        "    return prev\n",
        "\n",
        "def print_list(head):\n",
        "    current = head\n",
        "    nodes = []\n",
        "    while current:\n",
        "        nodes.append(str(current.data))\n",
        "        current = current.next\n",
        "    print(\" -> \".join(nodes))\n",
        "\n",
        "print(\"Creating nodes with input:\")\n",
        "node1 = Node(10)\n",
        "print(f\"Node 1 created with data: {node1.data}\")\n",
        "\n",
        "node2 = Node(20)\n",
        "print(f\"Node 2 created with data: {node2.data}\")\n",
        "\n",
        "node3 = Node(30)\n",
        "print(f\"Node 3 created with data: {node3.data}\")\n",
        "\n",
        "node4 = Node(40)\n",
        "print(f\"Node 4 created with data: {node4.data}\")\n",
        "\n",
        "print(\"\\nLinking nodes to form a list:\")\n",
        "node1.next = node2\n",
        "node2.next = node3\n",
        "node3.next = node4\n",
        "\n",
        "head = node1\n",
        "\n",
        "print(\"Original linked list:\")\n",
        "print_list(head)\n",
        "\n",
        "print(\"\\nReversing the linked list:\")\n",
        "reversed_head = reverse(head)\n",
        "\n",
        "print(\"Reversed linked list:\")\n",
        "print_list(reversed_head)\n"
      ],
      "metadata": {
        "colab": {
          "base_uri": "https://localhost:8080/"
        },
        "id": "w5Z0n2LCaj7Q",
        "outputId": "257451da-18ee-4251-eaf1-ea035f230ae7"
      },
      "execution_count": null,
      "outputs": [
        {
          "output_type": "stream",
          "name": "stdout",
          "text": [
            "Creating nodes with input:\n",
            "Node 1 created with data: 10\n",
            "Node 2 created with data: 20\n",
            "Node 3 created with data: 30\n",
            "Node 4 created with data: 40\n",
            "\n",
            "Linking nodes to form a list:\n",
            "Original linked list:\n",
            "10 -> 20 -> 30 -> 40\n",
            "\n",
            "Reversing the linked list:\n",
            "Reversed linked list:\n",
            "40 -> 30 -> 20 -> 10\n"
          ]
        }
      ]
    }
  ]
}